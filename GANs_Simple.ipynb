{
  "nbformat": 4,
  "nbformat_minor": 0,
  "metadata": {
    "colab": {
      "provenance": [],
      "authorship_tag": "ABX9TyMwPuUVJpVoky3pdntwxPjV",
      "include_colab_link": true
    },
    "kernelspec": {
      "name": "python3",
      "display_name": "Python 3"
    },
    "language_info": {
      "name": "python"
    }
  },
  "cells": [
    {
      "cell_type": "markdown",
      "metadata": {
        "id": "view-in-github",
        "colab_type": "text"
      },
      "source": [
        "<a href=\"https://colab.research.google.com/github/kaiju8/GANs-Implemented/blob/main/GANs_Simple.ipynb\" target=\"_parent\"><img src=\"https://colab.research.google.com/assets/colab-badge.svg\" alt=\"Open In Colab\"/></a>"
      ]
    },
    {
      "cell_type": "code",
      "execution_count": null,
      "metadata": {
        "id": "R1a5AXXATior"
      },
      "outputs": [],
      "source": [
        "import torch\n",
        "import torch.nn as nn\n",
        "import torch.optim as optim\n",
        "\n",
        "import torchvision\n",
        "import torchvision.datasets as datasets\n",
        "import torchvision.transforms as transforms\n",
        "\n",
        "from torch.utils.data import DataLoader\n",
        "from torch.utils.tensorboard import SummaryWriter"
      ]
    },
    {
      "cell_type": "code",
      "source": [
        "class Discriminator(nn.Module):\n",
        "  def __init__(self, img_dim):\n",
        "    super().__init__()\n",
        "    self.disc = nn.Sequential(\n",
        "        nn.Linear(img_dim, 128),\n",
        "        nn.LeakyReLU(0.1),\n",
        "        nn.Linear(128, 1),\n",
        "        nn.Sigmoid(),\n",
        "    )\n",
        "  def forward(self, x):\n",
        "    return self.disc(x)\n",
        "\n",
        "class Generator(nn.Module):\n",
        "  def __init__(self, z_dim, img_dim):\n",
        "    super().__init__()\n",
        "    self.gen = nn.Sequential(\n",
        "        nn.Linear(z_dim, 256),\n",
        "        nn.LeakyReLU(0.1),\n",
        "        nn.Linear(256, img_dim),\n",
        "        nn.Tanh(), \n",
        "    )\n",
        "  def forward(self, x):\n",
        "    return self.gen(x)"
      ],
      "metadata": {
        "id": "DAKc2xd6UhV2"
      },
      "execution_count": null,
      "outputs": []
    },
    {
      "cell_type": "code",
      "source": [
        "device = \"cuda\" if torch.cuda.is_available() else \"cpu\""
      ],
      "metadata": {
        "id": "sMl-Sd6Ftr03"
      },
      "execution_count": null,
      "outputs": []
    },
    {
      "cell_type": "markdown",
      "source": [
        "GANs are very sensitive to hyperparameters"
      ],
      "metadata": {
        "id": "ah9dgdLH6WUk"
      }
    },
    {
      "cell_type": "code",
      "source": [
        "lr = 3e-4 #vary \n",
        "z_dim = 64 #vary\n",
        "img_dim = 28 * 28 * 1\n",
        "batch_size = 32\n",
        "num_epochs = 50"
      ],
      "metadata": {
        "id": "ndkLwjkZuTxg"
      },
      "execution_count": null,
      "outputs": []
    },
    {
      "cell_type": "code",
      "source": [
        "disc = Discriminator(img_dim).to(device)\n",
        "gen = Generator(z_dim, img_dim).to(device)"
      ],
      "metadata": {
        "id": "-1IJQe31628U"
      },
      "execution_count": null,
      "outputs": []
    },
    {
      "cell_type": "code",
      "source": [
        "fixed_noise = torch.randn((batch_size, z_dim)).to(device)\n",
        "train_transforms = transforms.Compose(\n",
        "    [transforms.ToTensor(), transforms.Normalize((0.5,),(0.5,))]\n",
        ")\n",
        "dataset = datasets.MNIST(root = \"dataset\", transform = train_transforms, download = True)\n",
        "loader = DataLoader(dataset, batch_size=batch_size, shuffle = True)"
      ],
      "metadata": {
        "id": "DE7iv1_88CKp"
      },
      "execution_count": null,
      "outputs": []
    },
    {
      "cell_type": "code",
      "source": [
        "opt_disc = optim.Adam(disc.parameters(), lr = lr)\n",
        "opt_gen = optim.Adam(gen.parameters(), lr = lr)"
      ],
      "metadata": {
        "id": "DWLn9-pe-FLR"
      },
      "execution_count": null,
      "outputs": []
    },
    {
      "cell_type": "code",
      "source": [
        "criterion = nn.BCELoss()"
      ],
      "metadata": {
        "id": "bLgS51Zs_HLN"
      },
      "execution_count": null,
      "outputs": []
    },
    {
      "cell_type": "code",
      "source": [
        "writer_fake = SummaryWriter(f\"runs/GAN_MNIST/fake\")\n",
        "writer_real = SummaryWriter(f\"runs/GAN_MNIST/real\")\n",
        "step = 0"
      ],
      "metadata": {
        "id": "ZM_8B0m6AGVM"
      },
      "execution_count": null,
      "outputs": []
    },
    {
      "cell_type": "code",
      "source": [
        "for epoch in range(num_epochs):\n",
        "  for batch_idx, (real, _) in enumerate(loader):\n",
        "    real = real.view(-1, 784).to(device)\n",
        "    batch_Size = real.shape[0]\n",
        "\n",
        "    #Discriminator max log(D(real)) + log(1 - D(G(z)))\n",
        "\n",
        "    noise = torch.randn((batch_size, z_dim)).to(device)\n",
        "    fake = gen(noise)\n",
        "\n",
        "    disc_real = disc(real).view(-1)\n",
        "    loss_real = criterion(disc_real, torch.ones_like(disc_real))\n",
        "\n",
        "    disc_fake = disc(fake).view(-1)# detach for generator stuff or a\n",
        "    loss_fake = criterion(disc_fake, torch.zeros_like(disc_fake))\n",
        "\n",
        "    loss_D = (loss_real + loss_fake)/2\n",
        "\n",
        "    disc.zero_grad()\n",
        "    loss_D.backward(retain_graph = True)# a\n",
        "    opt_disc.step()\n",
        "\n",
        "    #Discriminator min log(1 - D(G(z))) but better to max log(D(G(z)))\n",
        "\n",
        "    output = disc(fake).view(-1)\n",
        "    loss_G = criterion(output, torch.ones_like(output))\n",
        "\n",
        "    gen.zero_grad()\n",
        "    loss_G.backward(retain_graph = True)# a\n",
        "    opt_gen.step()\n",
        "\n",
        "\n",
        "###################################################\n",
        "    if batch_idx == 0:\n",
        "            print(\n",
        "                f\"Epoch [{epoch}/{num_epochs}] Batch {batch_idx}/{len(loader)} \\\n",
        "                      Loss D: {loss_D:.4f}, loss G: {loss_G:.4f}\"\n",
        "            )\n",
        "\n",
        "            with torch.no_grad():\n",
        "                fake = gen(fixed_noise).reshape(-1, 1, 28, 28)\n",
        "                data = real.reshape(-1, 1, 28, 28)\n",
        "                img_grid_fake = torchvision.utils.make_grid(fake, normalize=True)\n",
        "                img_grid_real = torchvision.utils.make_grid(data, normalize=True)\n",
        "\n",
        "                writer_fake.add_image(\n",
        "                    \"Mnist Fake Images\", img_grid_fake, global_step=step\n",
        "                )\n",
        "                writer_real.add_image(\n",
        "                    \"Mnist Real Images\", img_grid_real, global_step=step\n",
        "                )\n",
        "                step += 1\n",
        "####################################################"
      ],
      "metadata": {
        "colab": {
          "base_uri": "https://localhost:8080/"
        },
        "id": "h7M-cNe9Ah8W",
        "outputId": "d0aae580-1188-4fe2-b11a-8f97b091c18a"
      },
      "execution_count": null,
      "outputs": [
        {
          "output_type": "stream",
          "name": "stdout",
          "text": [
            "Epoch [0/50] Batch 0/1875                       Loss D: 0.6723, loss G: 0.6845\n",
            "Epoch [1/50] Batch 0/1875                       Loss D: 0.1768, loss G: 1.9352\n",
            "Epoch [2/50] Batch 0/1875                       Loss D: 0.4047, loss G: 1.2208\n",
            "Epoch [3/50] Batch 0/1875                       Loss D: 0.4969, loss G: 1.0770\n",
            "Epoch [4/50] Batch 0/1875                       Loss D: 0.8932, loss G: 0.6541\n",
            "Epoch [5/50] Batch 0/1875                       Loss D: 0.5001, loss G: 1.0841\n",
            "Epoch [6/50] Batch 0/1875                       Loss D: 0.7088, loss G: 1.0133\n",
            "Epoch [7/50] Batch 0/1875                       Loss D: 0.8211, loss G: 0.7327\n",
            "Epoch [8/50] Batch 0/1875                       Loss D: 0.5968, loss G: 0.9356\n",
            "Epoch [9/50] Batch 0/1875                       Loss D: 0.5716, loss G: 0.9195\n",
            "Epoch [10/50] Batch 0/1875                       Loss D: 0.6963, loss G: 0.9466\n",
            "Epoch [11/50] Batch 0/1875                       Loss D: 0.5493, loss G: 1.2704\n",
            "Epoch [12/50] Batch 0/1875                       Loss D: 0.4077, loss G: 1.4522\n",
            "Epoch [13/50] Batch 0/1875                       Loss D: 0.4723, loss G: 1.2190\n",
            "Epoch [14/50] Batch 0/1875                       Loss D: 0.8255, loss G: 0.9653\n",
            "Epoch [15/50] Batch 0/1875                       Loss D: 0.6231, loss G: 1.1257\n",
            "Epoch [16/50] Batch 0/1875                       Loss D: 0.7938, loss G: 0.7581\n",
            "Epoch [17/50] Batch 0/1875                       Loss D: 0.4808, loss G: 1.3480\n",
            "Epoch [18/50] Batch 0/1875                       Loss D: 0.5942, loss G: 1.0614\n",
            "Epoch [19/50] Batch 0/1875                       Loss D: 0.5279, loss G: 1.1043\n",
            "Epoch [20/50] Batch 0/1875                       Loss D: 0.4825, loss G: 1.3503\n",
            "Epoch [21/50] Batch 0/1875                       Loss D: 0.4117, loss G: 1.0727\n",
            "Epoch [22/50] Batch 0/1875                       Loss D: 0.5258, loss G: 1.1708\n",
            "Epoch [23/50] Batch 0/1875                       Loss D: 0.6287, loss G: 1.0877\n",
            "Epoch [24/50] Batch 0/1875                       Loss D: 0.5594, loss G: 1.1682\n",
            "Epoch [25/50] Batch 0/1875                       Loss D: 0.5264, loss G: 1.2298\n",
            "Epoch [26/50] Batch 0/1875                       Loss D: 0.7070, loss G: 0.9229\n",
            "Epoch [27/50] Batch 0/1875                       Loss D: 0.7102, loss G: 0.9220\n",
            "Epoch [28/50] Batch 0/1875                       Loss D: 0.7240, loss G: 0.8342\n",
            "Epoch [29/50] Batch 0/1875                       Loss D: 0.6550, loss G: 0.9739\n",
            "Epoch [30/50] Batch 0/1875                       Loss D: 0.6054, loss G: 1.1178\n",
            "Epoch [31/50] Batch 0/1875                       Loss D: 0.7541, loss G: 1.0279\n",
            "Epoch [32/50] Batch 0/1875                       Loss D: 0.5736, loss G: 1.1961\n",
            "Epoch [33/50] Batch 0/1875                       Loss D: 0.4687, loss G: 1.3260\n",
            "Epoch [34/50] Batch 0/1875                       Loss D: 0.7785, loss G: 0.8057\n",
            "Epoch [35/50] Batch 0/1875                       Loss D: 0.6099, loss G: 0.8346\n",
            "Epoch [36/50] Batch 0/1875                       Loss D: 0.6248, loss G: 1.4400\n",
            "Epoch [37/50] Batch 0/1875                       Loss D: 0.5758, loss G: 1.1041\n",
            "Epoch [38/50] Batch 0/1875                       Loss D: 0.6510, loss G: 1.0832\n",
            "Epoch [39/50] Batch 0/1875                       Loss D: 0.5805, loss G: 0.9576\n",
            "Epoch [40/50] Batch 0/1875                       Loss D: 0.6133, loss G: 1.0095\n",
            "Epoch [41/50] Batch 0/1875                       Loss D: 0.6000, loss G: 1.0582\n",
            "Epoch [42/50] Batch 0/1875                       Loss D: 0.5890, loss G: 1.0376\n",
            "Epoch [43/50] Batch 0/1875                       Loss D: 0.5440, loss G: 0.9779\n",
            "Epoch [44/50] Batch 0/1875                       Loss D: 0.5493, loss G: 1.1671\n",
            "Epoch [45/50] Batch 0/1875                       Loss D: 0.6435, loss G: 0.9462\n",
            "Epoch [46/50] Batch 0/1875                       Loss D: 0.5571, loss G: 0.9580\n",
            "Epoch [47/50] Batch 0/1875                       Loss D: 0.5719, loss G: 1.1638\n",
            "Epoch [48/50] Batch 0/1875                       Loss D: 0.5946, loss G: 1.1342\n",
            "Epoch [49/50] Batch 0/1875                       Loss D: 0.5831, loss G: 1.0751\n"
          ]
        }
      ]
    },
    {
      "cell_type": "code",
      "source": [],
      "metadata": {
        "id": "GBSQIN0cA-oe"
      },
      "execution_count": null,
      "outputs": []
    }
  ]
}